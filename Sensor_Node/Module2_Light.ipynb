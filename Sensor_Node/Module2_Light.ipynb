{
 "cells": [
  {
   "cell_type": "code",
   "execution_count": null,
   "metadata": {},
   "outputs": [],
   "source": [
    "from tapo_plug import tapoPlugApi\n",
    "import bluepy.btle as btle\n",
    "import datetime\n",
    "import argparse\n",
    "import os\n",
    "\n",
    "### For bluepy Peripheral class\n",
    "global dataByte\n",
    "dataByte = 0\n",
    "class ReadDelegate(btle.DefaultDelegate):\n",
    "    def handleNotification(self, cHandle, data):\n",
    "        # Access global variables insid class\n",
    "        global dataByte\n",
    "        dataByte = data\n",
    "\n",
    "blue_address = \"FC:45:C3:DC:99:87\"\n",
    "\n",
    "### Connect to HC-08 bluetooth Module\n",
    "p = 0\n",
    "while p == 0:\n",
    "    try:\n",
    "        if p != 0:\n",
    "            continue\n",
    "        p = btle.Peripheral(blue_address)\n",
    "        p.withDelegate(ReadDelegate())\n",
    "    except:\n",
    "        pass\n",
    "\n",
    "while True:\n",
    "    try:\n",
    "        ### Message 1\n",
    "        p.waitForNotifications(0)\n",
    "        # Change byte to int data\n",
    "        light = \"\"\n",
    "        for i in range(len(dataByte)):\n",
    "            d = str(dataByte[i])\n",
    "            light = light + d\n",
    "        light = int(light)\n",
    "        print(\"light : \", light)\n",
    "\n",
    "        ### Save data into file\n",
    "        with open('light_intensity.txt', 'w') as f:\n",
    "            f.write(light)\n",
    "\n",
    "        ### Control  \n",
    "        if round(light) < 200:\n",
    "            device = {\"tapoIp\": \"192.168.XX.XXX\", \"tapoEmail\": \"ntubblab@gmail.com\", \"tapoPassword\": \"ntubime405\"}\n",
    "            response = tapoPlugApi.plugOn(device)\n",
    "            print(response)\n",
    "        if round(light) > 500:\n",
    "            device = {\"tapoIp\": \"192.168.XX.XXX\", \"tapoEmail\": \"ntubblab@gmail.com\", \"tapoPassword\": \"ntubime405\"}\n",
    "            response = tapoPlugApi.plugOff(device)\n",
    "            print(response)\n",
    "            \n",
    "    ### Reconnect\n",
    "    except Exception as e:\n",
    "        print(e)\n",
    "        try:\n",
    "            p = 0\n",
    "            while p == 0:\n",
    "                if p != 0:\n",
    "                    continue\n",
    "                p = btle.Peripheral(blue_address)\n",
    "                p.withDelegate(ReadDelegate())\n",
    "                # Initialize\n",
    "                light = None\n",
    "        except:\n",
    "            pass"
   ]
  }
 ],
 "metadata": {
  "interpreter": {
   "hash": "aee8b7b246df8f9039afb4144a1f6fd8d2ca17a180786b69acc140d282b71a49"
  },
  "kernelspec": {
   "display_name": "Python 3.9.5 64-bit",
   "name": "python3"
  },
  "language_info": {
   "codemirror_mode": {
    "name": "ipython",
    "version": 3
   },
   "file_extension": ".py",
   "mimetype": "text/x-python",
   "name": "python",
   "nbconvert_exporter": "python",
   "pygments_lexer": "ipython3",
   "version": "3.9.9"
  },
  "metadata": {
   "interpreter": {
    "hash": "aee8b7b246df8f9039afb4144a1f6fd8d2ca17a180786b69acc140d282b71a49"
   }
  }
 },
 "nbformat": 4,
 "nbformat_minor": 2
}
