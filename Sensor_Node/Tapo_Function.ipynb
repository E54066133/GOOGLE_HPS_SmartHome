{
 "cells": [
  {
   "cell_type": "code",
   "execution_count": null,
   "metadata": {},
   "outputs": [],
   "source": [
    "from tapo_plug import tapoPlugApi\n",
    "\n",
    "def openTapo_temp():\n",
    "    device = {\"tapoIp\": \"192.168.XX.XXX\", \"tapoEmail\": \"ntubblab@gmail.com\", \"tapoPassword\": \"ntubime405\"}\n",
    "    response = tapoPlugApi.plugOn(device)\n",
    "    return response\n",
    "\n",
    "def closeTapo_temp():\n",
    "    device = {\"tapoIp\": \"192.168.XX.XXX\", \"tapoEmail\": \"ntubblab@gmail.com\", \"tapoPassword\": \"ntubime405\"}\n",
    "    response = tapoPlugApi.plugOff(device)\n",
    "    return response\n",
    "\n",
    "def openTapo_mois():\n",
    "    device = {\"tapoIp\": \"192.168.XX.XXX\", \"tapoEmail\": \"ntubblab@gmail.com\", \"tapoPassword\": \"ntubime405\"}\n",
    "    response = tapoPlugApi.plugOn(device)\n",
    "    return response\n",
    "\n",
    "def closeTapo_mois():\n",
    "    device = {\"tapoIp\": \"192.168.XX.XXX\", \"tapoEmail\": \"ntubblab@gmail.com\", \"tapoPassword\": \"ntubime405\"}\n",
    "    response = tapoPlugApi.plugOff(device)\n",
    "    return response\n",
    "\n",
    "def openTapo_light():\n",
    "    device = {\"tapoIp\": \"192.168.XX.XXX\", \"tapoEmail\": \"ntubblab@gmail.com\", \"tapoPassword\": \"ntubime405\"}\n",
    "    response = tapoPlugApi.plugOn(device)\n",
    "    return response\n",
    "\n",
    "def closeTapo_light():\n",
    "    device = {\"tapoIp\": \"192.168.XX.XXX\", \"tapoEmail\": \"ntubblab@gmail.com\", \"tapoPassword\": \"ntubime405\"}\n",
    "    response = tapoPlugApi.plugOff(device)\n",
    "    return response\n"
   ]
  }
 ],
 "metadata": {
  "interpreter": {
   "hash": "aee8b7b246df8f9039afb4144a1f6fd8d2ca17a180786b69acc140d282b71a49"
  },
  "kernelspec": {
   "display_name": "Python 3.9.5 64-bit",
   "name": "python3"
  },
  "language_info": {
   "codemirror_mode": {
    "name": "ipython",
    "version": 3
   },
   "file_extension": ".py",
   "mimetype": "text/x-python",
   "name": "python",
   "nbconvert_exporter": "python",
   "pygments_lexer": "ipython3",
   "version": "3.9.9"
  },
  "metadata": {
   "interpreter": {
    "hash": "aee8b7b246df8f9039afb4144a1f6fd8d2ca17a180786b69acc140d282b71a49"
   }
  }
 },
 "nbformat": 4,
 "nbformat_minor": 2
}
